{
 "cells": [
  {
   "cell_type": "markdown",
   "id": "d0de9af2-059e-43e8-a360-0bf6622722f3",
   "metadata": {},
   "source": [
    "# Introduction to NumPy\n",
    "- Creating arrays\n",
    "- Multi-dimentional arrays\n",
    "- Randomly generated arrays\n",
    "- Element-wise operations\n",
    "  - Comparison operations\n",
    "  - Logical operations\n",
    "- Summarizing operations"
   ]
  },
  {
   "cell_type": "code",
   "execution_count": 1,
   "id": "a7082189-7a82-49d4-8fc3-4b75330a5001",
   "metadata": {},
   "outputs": [],
   "source": [
    "import numpy as np"
   ]
  },
  {
   "cell_type": "markdown",
   "id": "6b88f953-21cc-4095-80f7-22fec028ebf8",
   "metadata": {},
   "source": [
    "# Creating arrays"
   ]
  },
  {
   "cell_type": "code",
   "execution_count": 2,
   "id": "f2a46e33-a247-4f7d-9bcc-8cbcdbc9041e",
   "metadata": {},
   "outputs": [
    {
     "data": {
      "text/plain": [
       "array([0., 0., 0., 0., 0.])"
      ]
     },
     "execution_count": 2,
     "metadata": {},
     "output_type": "execute_result"
    }
   ],
   "source": [
    "np.zeros(5)"
   ]
  },
  {
   "cell_type": "code",
   "execution_count": 3,
   "id": "8d9198f7-e3a9-4b0f-bf48-b9074af49f18",
   "metadata": {},
   "outputs": [
    {
     "data": {
      "text/plain": [
       "array([1., 1., 1., 1., 1., 1., 1., 1., 1., 1.])"
      ]
     },
     "execution_count": 3,
     "metadata": {},
     "output_type": "execute_result"
    }
   ],
   "source": [
    "np.ones(10)"
   ]
  },
  {
   "cell_type": "code",
   "execution_count": 4,
   "id": "9e9cd663-7aeb-4532-ae0e-8dc386f695ec",
   "metadata": {},
   "outputs": [
    {
     "data": {
      "text/plain": [
       "array([2, 2, 2, 2, 2])"
      ]
     },
     "execution_count": 4,
     "metadata": {},
     "output_type": "execute_result"
    }
   ],
   "source": [
    "np.full(5, 2)"
   ]
  },
  {
   "cell_type": "code",
   "execution_count": 5,
   "id": "ebbb6686-b904-4755-be22-1d7f80075f82",
   "metadata": {},
   "outputs": [
    {
     "data": {
      "text/plain": [
       "array([1, 2, 3, 4, 5])"
      ]
     },
     "execution_count": 5,
     "metadata": {},
     "output_type": "execute_result"
    }
   ],
   "source": [
    "a = np.array([1,2,3,4,5])\n",
    "a"
   ]
  },
  {
   "cell_type": "code",
   "execution_count": 6,
   "id": "02a14d7f-606e-4858-9d70-bcf3648768fc",
   "metadata": {},
   "outputs": [
    {
     "data": {
      "text/plain": [
       "array([ 1,  2, 10,  4,  5])"
      ]
     },
     "execution_count": 6,
     "metadata": {},
     "output_type": "execute_result"
    }
   ],
   "source": [
    "a[2] = 10\n",
    "a"
   ]
  },
  {
   "cell_type": "code",
   "execution_count": 7,
   "id": "0812048a-44ba-48fa-bd67-e7f28b79433d",
   "metadata": {},
   "outputs": [
    {
     "data": {
      "text/plain": [
       "array([0, 1, 2, 3, 4, 5, 6, 7, 8, 9])"
      ]
     },
     "execution_count": 7,
     "metadata": {},
     "output_type": "execute_result"
    }
   ],
   "source": [
    "np.arange(10)"
   ]
  },
  {
   "cell_type": "code",
   "execution_count": 8,
   "id": "85b843bf-ac97-49d9-a7b7-99642f942018",
   "metadata": {},
   "outputs": [
    {
     "data": {
      "text/plain": [
       "array([0. , 0.1, 0.2, 0.3, 0.4, 0.5, 0.6, 0.7, 0.8, 0.9, 1. ])"
      ]
     },
     "execution_count": 8,
     "metadata": {},
     "output_type": "execute_result"
    }
   ],
   "source": [
    "np.linspace(0,1,11)"
   ]
  },
  {
   "cell_type": "markdown",
   "id": "2108abf2-a1e1-475d-b0f6-c3850b3276d8",
   "metadata": {},
   "source": [
    "# Multi-dimensional arrays"
   ]
  },
  {
   "cell_type": "code",
   "execution_count": 9,
   "id": "a1978604-dada-45a7-96c2-2b57ac7c89fc",
   "metadata": {},
   "outputs": [
    {
     "data": {
      "text/plain": [
       "array([[0., 0.],\n",
       "       [0., 0.],\n",
       "       [0., 0.],\n",
       "       [0., 0.],\n",
       "       [0., 0.]])"
      ]
     },
     "execution_count": 9,
     "metadata": {},
     "output_type": "execute_result"
    }
   ],
   "source": [
    "np.zeros((5,2))"
   ]
  },
  {
   "cell_type": "code",
   "execution_count": 10,
   "id": "e5c5cb43-f120-45f8-804f-60282438a6d2",
   "metadata": {},
   "outputs": [
    {
     "data": {
      "text/plain": [
       "array([[1, 2, 3],\n",
       "       [4, 5, 6],\n",
       "       [7, 8, 9]])"
      ]
     },
     "execution_count": 10,
     "metadata": {},
     "output_type": "execute_result"
    }
   ],
   "source": [
    "n = np.array([\n",
    "    [1,2,3],\n",
    "    [4,5,6],\n",
    "    [7,8,9]\n",
    "])\n",
    "n"
   ]
  },
  {
   "cell_type": "code",
   "execution_count": 11,
   "id": "48ef25bf-8cd9-476f-aa21-5575191b3950",
   "metadata": {},
   "outputs": [
    {
     "data": {
      "text/plain": [
       "np.int64(2)"
      ]
     },
     "execution_count": 11,
     "metadata": {},
     "output_type": "execute_result"
    }
   ],
   "source": [
    "n[0,1]"
   ]
  },
  {
   "cell_type": "code",
   "execution_count": 12,
   "id": "fe1d5872-3f01-4977-adf8-3a0c123e9fb4",
   "metadata": {},
   "outputs": [
    {
     "data": {
      "text/plain": [
       "array([1, 2, 3])"
      ]
     },
     "execution_count": 12,
     "metadata": {},
     "output_type": "execute_result"
    }
   ],
   "source": [
    "n[0]"
   ]
  },
  {
   "cell_type": "code",
   "execution_count": 13,
   "id": "e81f655d-ab38-409f-af1f-40f32330a501",
   "metadata": {},
   "outputs": [
    {
     "data": {
      "text/plain": [
       "array([2, 5, 8])"
      ]
     },
     "execution_count": 13,
     "metadata": {},
     "output_type": "execute_result"
    }
   ],
   "source": [
    "n[:,1]"
   ]
  },
  {
   "cell_type": "markdown",
   "id": "84fbc336-19eb-4e8b-8997-507d3b2b2801",
   "metadata": {},
   "source": [
    "# Randomly generated arrays"
   ]
  },
  {
   "cell_type": "code",
   "execution_count": 14,
   "id": "e64bd7ce-698a-4f64-8f3a-b519144b7e83",
   "metadata": {},
   "outputs": [
    {
     "data": {
      "text/plain": [
       "array([[0.4359949 , 0.02592623],\n",
       "       [0.54966248, 0.43532239],\n",
       "       [0.4203678 , 0.33033482],\n",
       "       [0.20464863, 0.61927097],\n",
       "       [0.29965467, 0.26682728]])"
      ]
     },
     "execution_count": 14,
     "metadata": {},
     "output_type": "execute_result"
    }
   ],
   "source": [
    "np.random.seed(2)\n",
    "np.random.rand(5,2)"
   ]
  },
  {
   "cell_type": "code",
   "execution_count": 15,
   "id": "dde9959e-0e23-457f-9af1-831d1b2d3b46",
   "metadata": {},
   "outputs": [
    {
     "data": {
      "text/plain": [
       "array([[-0.41675785, -0.05626683],\n",
       "       [-2.1361961 ,  1.64027081],\n",
       "       [-1.79343559, -0.84174737],\n",
       "       [ 0.50288142, -1.24528809],\n",
       "       [-1.05795222, -0.90900761]])"
      ]
     },
     "execution_count": 15,
     "metadata": {},
     "output_type": "execute_result"
    }
   ],
   "source": [
    "np.random.seed(2)\n",
    "np.random.randn(5,2)"
   ]
  },
  {
   "cell_type": "code",
   "execution_count": 16,
   "id": "fb32d73d-0530-447f-bf38-5a2e9884f8ce",
   "metadata": {},
   "outputs": [
    {
     "data": {
      "text/plain": [
       "array([[40, 15],\n",
       "       [72, 22],\n",
       "       [43, 82],\n",
       "       [75,  7],\n",
       "       [34, 49]])"
      ]
     },
     "execution_count": 16,
     "metadata": {},
     "output_type": "execute_result"
    }
   ],
   "source": [
    "np.random.seed(2)\n",
    "np.random.randint(low=0, high=100, size=(5,2))"
   ]
  },
  {
   "cell_type": "markdown",
   "id": "f224b9d7-0133-4682-9119-79bca9554e4e",
   "metadata": {},
   "source": [
    "# Element-wise Operations"
   ]
  },
  {
   "cell_type": "code",
   "execution_count": 17,
   "id": "04e0dd25-9b9d-4e81-8539-ecdaeb84610e",
   "metadata": {},
   "outputs": [
    {
     "data": {
      "text/plain": [
       "array([0, 1, 2, 3, 4])"
      ]
     },
     "execution_count": 17,
     "metadata": {},
     "output_type": "execute_result"
    }
   ],
   "source": [
    "a = np.arange(5)\n",
    "a"
   ]
  },
  {
   "cell_type": "code",
   "execution_count": 18,
   "id": "5d4fe4a2-70b1-40f0-a832-7cb976f32557",
   "metadata": {},
   "outputs": [
    {
     "data": {
      "text/plain": [
       "array([1, 2, 3, 4, 5])"
      ]
     },
     "execution_count": 18,
     "metadata": {},
     "output_type": "execute_result"
    }
   ],
   "source": [
    "a+1 #Any operation can be used in place of + (Can use any expression also)"
   ]
  },
  {
   "cell_type": "markdown",
   "id": "c63475ef-f8a1-4567-8b28-80c51952db34",
   "metadata": {},
   "source": [
    "## Comparison operations"
   ]
  },
  {
   "cell_type": "code",
   "execution_count": 19,
   "id": "a2cbeac8-d773-482c-8dab-6531ffda68c2",
   "metadata": {},
   "outputs": [
    {
     "data": {
      "text/plain": [
       "array([False, False,  True,  True,  True])"
      ]
     },
     "execution_count": 19,
     "metadata": {},
     "output_type": "execute_result"
    }
   ],
   "source": [
    "a >= 2"
   ]
  },
  {
   "cell_type": "code",
   "execution_count": 20,
   "id": "0ec58d68-7e48-4891-8ca1-6337ff89fef7",
   "metadata": {},
   "outputs": [
    {
     "data": {
      "text/plain": [
       "array([3, 4])"
      ]
     },
     "execution_count": 20,
     "metadata": {},
     "output_type": "execute_result"
    }
   ],
   "source": [
    "a[a>2]"
   ]
  },
  {
   "cell_type": "markdown",
   "id": "c15d7eef-8c53-45b2-9b5e-cb669cecb85c",
   "metadata": {},
   "source": [
    "## Summarization Operations"
   ]
  },
  {
   "cell_type": "code",
   "execution_count": 21,
   "id": "0c0bcbb6-85ec-42de-a1b3-6d4266d05e18",
   "metadata": {},
   "outputs": [
    {
     "data": {
      "text/plain": [
       "np.int64(0)"
      ]
     },
     "execution_count": 21,
     "metadata": {},
     "output_type": "execute_result"
    }
   ],
   "source": [
    "a.min()"
   ]
  },
  {
   "cell_type": "code",
   "execution_count": 22,
   "id": "2c9b0ec7-5d98-4a50-8666-26f735c6a39b",
   "metadata": {},
   "outputs": [
    {
     "data": {
      "text/plain": [
       "np.int64(4)"
      ]
     },
     "execution_count": 22,
     "metadata": {},
     "output_type": "execute_result"
    }
   ],
   "source": [
    "a.max()"
   ]
  },
  {
   "cell_type": "code",
   "execution_count": 23,
   "id": "971d723e-0bf5-4452-9081-9176f78c4e1d",
   "metadata": {},
   "outputs": [
    {
     "data": {
      "text/plain": [
       "np.int64(10)"
      ]
     },
     "execution_count": 23,
     "metadata": {},
     "output_type": "execute_result"
    }
   ],
   "source": [
    "a.sum()"
   ]
  },
  {
   "cell_type": "code",
   "execution_count": 24,
   "id": "7e563390-5d98-4d03-ab76-af75c1be284e",
   "metadata": {},
   "outputs": [
    {
     "data": {
      "text/plain": [
       "np.float64(1.4142135623730951)"
      ]
     },
     "execution_count": 24,
     "metadata": {},
     "output_type": "execute_result"
    }
   ],
   "source": [
    "a.std()"
   ]
  },
  {
   "cell_type": "markdown",
   "id": "faaedac2-532e-4153-9484-a61e3c10a4cb",
   "metadata": {},
   "source": [
    "# Linear Algebra"
   ]
  },
  {
   "cell_type": "markdown",
   "id": "212862d3-86d6-43ab-a524-5c6ec65d09d1",
   "metadata": {},
   "source": [
    "## Multiplication"
   ]
  },
  {
   "cell_type": "code",
   "execution_count": 25,
   "id": "ff78dfd5-0dec-481a-b814-c184a378dc5c",
   "metadata": {},
   "outputs": [],
   "source": [
    "u = np.array([1,2,3,4])\n",
    "v = np.array([2,5,7,8])"
   ]
  },
  {
   "cell_type": "code",
   "execution_count": 26,
   "id": "7b7e84fb-803f-46ea-817c-4b47e568a1e3",
   "metadata": {},
   "outputs": [
    {
     "data": {
      "text/plain": [
       "4"
      ]
     },
     "execution_count": 26,
     "metadata": {},
     "output_type": "execute_result"
    }
   ],
   "source": [
    "u.shape[0]"
   ]
  },
  {
   "cell_type": "code",
   "execution_count": 27,
   "id": "ffe729b1-5b9d-43b9-8257-d9c436dd3107",
   "metadata": {},
   "outputs": [],
   "source": [
    "def vector_vector_multiplication(u,v):\n",
    "    assert u.shape[0] == v.shape[0]\n",
    "\n",
    "    n = u.shape[0]\n",
    "    result = 0.0\n",
    "\n",
    "    for i in range(n):\n",
    "        result += u[i]*v[i]\n",
    "\n",
    "    return result"
   ]
  },
  {
   "cell_type": "code",
   "execution_count": 28,
   "id": "3ad3da9d-598e-4d6d-b0b2-0f97a2c27dd3",
   "metadata": {},
   "outputs": [
    {
     "data": {
      "text/plain": [
       "np.float64(65.0)"
      ]
     },
     "execution_count": 28,
     "metadata": {},
     "output_type": "execute_result"
    }
   ],
   "source": [
    "vector_vector_multiplication(u,v)"
   ]
  },
  {
   "cell_type": "code",
   "execution_count": 29,
   "id": "d5df6c59-64e4-4e07-888a-b5e5cdd39f1d",
   "metadata": {},
   "outputs": [
    {
     "data": {
      "text/plain": [
       "np.int64(65)"
      ]
     },
     "execution_count": 29,
     "metadata": {},
     "output_type": "execute_result"
    }
   ],
   "source": [
    "u.dot(v)"
   ]
  },
  {
   "cell_type": "code",
   "execution_count": 30,
   "id": "c243eb9a-c630-4218-94a0-580fb9c09f5a",
   "metadata": {},
   "outputs": [],
   "source": [
    "U = np.array([\n",
    "    [2,4,5,6],\n",
    "    [1,2,1,2],\n",
    "    [3,1,2,1]\n",
    "])"
   ]
  },
  {
   "cell_type": "code",
   "execution_count": 31,
   "id": "ec964b55-79ad-499b-a600-eb370120dca5",
   "metadata": {},
   "outputs": [
    {
     "data": {
      "text/plain": [
       "array([[2, 4, 5, 6],\n",
       "       [1, 2, 1, 2],\n",
       "       [3, 1, 2, 1]])"
      ]
     },
     "execution_count": 31,
     "metadata": {},
     "output_type": "execute_result"
    }
   ],
   "source": [
    "U"
   ]
  },
  {
   "cell_type": "code",
   "execution_count": 32,
   "id": "8796784d-8c16-4741-a841-d90f8de4153a",
   "metadata": {},
   "outputs": [],
   "source": [
    "def matrix_vector_multiplication(U, v):\n",
    "    assert U.shape[1] == v.shape[0]\n",
    "\n",
    "    num_rows = U.shape[0]\n",
    "    result = np.zeros(num_rows)\n",
    "\n",
    "    for i in range(num_rows):\n",
    "        result[i] = vector_vector_multiplication(U[i], v)\n",
    "\n",
    "    return result"
   ]
  },
  {
   "cell_type": "code",
   "execution_count": 33,
   "id": "e1d3551a-c5f3-4fd0-a370-9342e3f799f6",
   "metadata": {},
   "outputs": [
    {
     "data": {
      "text/plain": [
       "array([107.,  35.,  33.])"
      ]
     },
     "execution_count": 33,
     "metadata": {},
     "output_type": "execute_result"
    }
   ],
   "source": [
    "matrix_vector_multiplication(U,v)"
   ]
  },
  {
   "cell_type": "code",
   "execution_count": 36,
   "id": "903e647d-661e-4ac8-a8ce-86f1fa46acd0",
   "metadata": {},
   "outputs": [
    {
     "data": {
      "text/plain": [
       "array([107,  35,  33])"
      ]
     },
     "execution_count": 36,
     "metadata": {},
     "output_type": "execute_result"
    }
   ],
   "source": [
    "U.dot(v)"
   ]
  },
  {
   "cell_type": "code",
   "execution_count": 37,
   "id": "878c3b5b-9609-48d4-ac91-7e7a50a4096f",
   "metadata": {},
   "outputs": [
    {
     "data": {
      "text/plain": [
       "(3, 4)"
      ]
     },
     "execution_count": 37,
     "metadata": {},
     "output_type": "execute_result"
    }
   ],
   "source": [
    "U.shape"
   ]
  },
  {
   "cell_type": "code",
   "execution_count": 38,
   "id": "4e3fd7ec-5fa2-44ab-b1ee-4f7dc648d094",
   "metadata": {},
   "outputs": [
    {
     "data": {
      "text/plain": [
       "(4, 3)"
      ]
     },
     "execution_count": 38,
     "metadata": {},
     "output_type": "execute_result"
    }
   ],
   "source": [
    "V.shape"
   ]
  },
  {
   "cell_type": "code",
   "execution_count": 35,
   "id": "e85d99bb-f8e1-47fc-a3f4-cbd67f242773",
   "metadata": {},
   "outputs": [],
   "source": [
    "V = np.array([\n",
    "    [1,1,2],\n",
    "    [0,0.5,1],\n",
    "    [0,2,1],\n",
    "    [2,1,0]\n",
    "])"
   ]
  },
  {
   "cell_type": "code",
   "execution_count": 39,
   "id": "bae1fc17-7671-4f15-bc49-4c22080bf1f9",
   "metadata": {},
   "outputs": [],
   "source": [
    "def matrix_matrix_multiplication(U, V):\n",
    "    assert U.shape[1] == V.shape[0]\n",
    "\n",
    "    num_rows = U.shape[0]\n",
    "    num_cols = V.shape[1]\n",
    "\n",
    "    result = np.zeros((num_rows, num_cols))\n",
    "\n",
    "    for i in range(num_cols):\n",
    "        vi = V[:, i]\n",
    "        Uvi = matrix_vector_multiplication(U, vi)\n",
    "        result[:,i] = Uvi\n",
    "\n",
    "    return result"
   ]
  },
  {
   "cell_type": "code",
   "execution_count": 40,
   "id": "bbdea513-7962-4e6e-9b1f-8b4b7138b789",
   "metadata": {},
   "outputs": [
    {
     "data": {
      "text/plain": [
       "array([[14. , 20. , 13. ],\n",
       "       [ 5. ,  6. ,  5. ],\n",
       "       [ 5. ,  8.5,  9. ]])"
      ]
     },
     "execution_count": 40,
     "metadata": {},
     "output_type": "execute_result"
    }
   ],
   "source": [
    "matrix_matrix_multiplication(U,V)"
   ]
  },
  {
   "cell_type": "code",
   "execution_count": 41,
   "id": "df3b5b69-c887-4ffe-a630-58a82e9bf321",
   "metadata": {},
   "outputs": [
    {
     "data": {
      "text/plain": [
       "array([[14. , 20. , 13. ],\n",
       "       [ 5. ,  6. ,  5. ],\n",
       "       [ 5. ,  8.5,  9. ]])"
      ]
     },
     "execution_count": 41,
     "metadata": {},
     "output_type": "execute_result"
    }
   ],
   "source": [
    "U.dot(V)"
   ]
  },
  {
   "cell_type": "markdown",
   "id": "df44206a-a192-45ee-8d65-2ab4251ada22",
   "metadata": {},
   "source": [
    "## Identity Matrix"
   ]
  },
  {
   "cell_type": "code",
   "execution_count": 44,
   "id": "92be5951-3c14-4114-873d-e68cfa0620cd",
   "metadata": {},
   "outputs": [],
   "source": [
    "I = np.eye(3)"
   ]
  },
  {
   "cell_type": "code",
   "execution_count": 46,
   "id": "fc598088-b3e2-4f61-8318-f30cea5d5621",
   "metadata": {},
   "outputs": [
    {
     "data": {
      "text/plain": [
       "array([[1. , 1. , 2. ],\n",
       "       [0. , 0.5, 1. ],\n",
       "       [0. , 2. , 1. ],\n",
       "       [2. , 1. , 0. ]])"
      ]
     },
     "execution_count": 46,
     "metadata": {},
     "output_type": "execute_result"
    }
   ],
   "source": [
    "V"
   ]
  },
  {
   "cell_type": "code",
   "execution_count": 45,
   "id": "29b2ed4d-3334-4a87-9a47-a77d42407a69",
   "metadata": {},
   "outputs": [
    {
     "data": {
      "text/plain": [
       "array([[1. , 1. , 2. ],\n",
       "       [0. , 0.5, 1. ],\n",
       "       [0. , 2. , 1. ],\n",
       "       [2. , 1. , 0. ]])"
      ]
     },
     "execution_count": 45,
     "metadata": {},
     "output_type": "execute_result"
    }
   ],
   "source": [
    "V.dot(I)"
   ]
  },
  {
   "cell_type": "markdown",
   "id": "a2d38818-0fac-4c5a-823e-40b423f425df",
   "metadata": {},
   "source": [
    "## Inverse"
   ]
  },
  {
   "cell_type": "code",
   "execution_count": 48,
   "id": "1ab99214-6e2f-4fba-80c8-affb80c392b2",
   "metadata": {},
   "outputs": [
    {
     "data": {
      "text/plain": [
       "array([[1. , 1. , 2. ],\n",
       "       [0. , 0.5, 1. ],\n",
       "       [0. , 2. , 1. ]])"
      ]
     },
     "execution_count": 48,
     "metadata": {},
     "output_type": "execute_result"
    }
   ],
   "source": [
    "Vs = V[[0,1,2]]\n",
    "Vs"
   ]
  },
  {
   "cell_type": "code",
   "execution_count": 51,
   "id": "60f554f0-c9f0-4967-bcb5-e538b41ca2e9",
   "metadata": {},
   "outputs": [
    {
     "data": {
      "text/plain": [
       "array([[ 1.        , -2.        ,  0.        ],\n",
       "       [ 0.        , -0.66666667,  0.66666667],\n",
       "       [ 0.        ,  1.33333333, -0.33333333]])"
      ]
     },
     "execution_count": 51,
     "metadata": {},
     "output_type": "execute_result"
    }
   ],
   "source": [
    "Vs_inv = np.linalg.inv(Vs)\n",
    "Vs_inv"
   ]
  },
  {
   "cell_type": "code",
   "execution_count": 52,
   "id": "798578f8-fa09-43fd-b5ba-a08fa6a078dc",
   "metadata": {},
   "outputs": [
    {
     "data": {
      "text/plain": [
       "array([[1., 0., 0.],\n",
       "       [0., 1., 0.],\n",
       "       [0., 0., 1.]])"
      ]
     },
     "execution_count": 52,
     "metadata": {},
     "output_type": "execute_result"
    }
   ],
   "source": [
    "Vs_inv.dot(Vs)"
   ]
  },
  {
   "cell_type": "code",
   "execution_count": null,
   "id": "fe9e482c-3aaa-475d-91de-198dc1e902aa",
   "metadata": {},
   "outputs": [],
   "source": []
  }
 ],
 "metadata": {
  "kernelspec": {
   "display_name": "Python 3 (ipykernel)",
   "language": "python",
   "name": "python3"
  },
  "language_info": {
   "codemirror_mode": {
    "name": "ipython",
    "version": 3
   },
   "file_extension": ".py",
   "mimetype": "text/x-python",
   "name": "python",
   "nbconvert_exporter": "python",
   "pygments_lexer": "ipython3",
   "version": "3.12.1"
  }
 },
 "nbformat": 4,
 "nbformat_minor": 5
}
